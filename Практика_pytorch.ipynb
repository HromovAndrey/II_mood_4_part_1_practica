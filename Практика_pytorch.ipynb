{
  "nbformat": 4,
  "nbformat_minor": 0,
  "metadata": {
    "colab": {
      "provenance": [],
      "gpuType": "T4",
      "include_colab_link": true
    },
    "kernelspec": {
      "name": "python3",
      "display_name": "Python 3"
    },
    "language_info": {
      "name": "python"
    },
    "accelerator": "GPU"
  },
  "cells": [
    {
      "cell_type": "markdown",
      "metadata": {
        "id": "view-in-github",
        "colab_type": "text"
      },
      "source": [
        "<a href=\"https://colab.research.google.com/github/HromovAndrey/II_mood_4_part_1_practica/blob/Practika-2/%D0%9F%D1%80%D0%B0%D0%BA%D1%82%D0%B8%D0%BA%D0%B0_pytorch.ipynb\" target=\"_parent\"><img src=\"https://colab.research.google.com/assets/colab-badge.svg\" alt=\"Open In Colab\"/></a>"
      ]
    },
    {
      "cell_type": "markdown",
      "source": [
        "Імпорт модулів"
      ],
      "metadata": {
        "id": "ZnHVsAJ_5Py3"
      }
    },
    {
      "cell_type": "code",
      "execution_count": 2,
      "metadata": {
        "id": "yJf_g69N5LP6"
      },
      "outputs": [],
      "source": [
        "import torch"
      ]
    },
    {
      "cell_type": "markdown",
      "source": [
        "# Завдання 1\n",
        "\n",
        "Перегляньте інформацію про доступні процесори, та виведіть про них інформацію"
      ],
      "metadata": {
        "id": "pRkcTmfh6jCX"
      }
    },
    {
      "cell_type": "code",
      "source": [
        "tensor = torch.tensor([1, 2, 3, 4, 5, 6])\n",
        "print(tensor)"
      ],
      "metadata": {
        "id": "W5yEGTcV6zHy",
        "outputId": "5651d86a-09dd-4bfa-dfaa-69b76e428cf8",
        "colab": {
          "base_uri": "https://localhost:8080/"
        }
      },
      "execution_count": 3,
      "outputs": [
        {
          "output_type": "stream",
          "name": "stdout",
          "text": [
            "tensor([1, 2, 3, 4, 5, 6])\n"
          ]
        }
      ]
    },
    {
      "cell_type": "markdown",
      "source": [
        "# Завдання 2\n",
        "Підключіть colab до процесора GPU, та знову виведіть інформацію про доступні процесори"
      ],
      "metadata": {
        "id": "xTLIVYQg6z5G"
      }
    },
    {
      "cell_type": "code",
      "source": [
        "print(torch.cuda.is_available())\n",
        "\n",
        "if torch.cuda.is_available():\n",
        "    print(torch.cuda.device_count())\n",
        "    print(torch.cuda.get_device_name(0))\n",
        "\n",
        "tensor = torch.tensor([1, 2, 3, 4, 5, 6])\n",
        "print(tensor.device)"
      ],
      "metadata": {
        "id": "iVPWDF2D8dAM",
        "outputId": "a37b8402-b1bc-43d5-f180-703e107cd55e",
        "colab": {
          "base_uri": "https://localhost:8080/"
        }
      },
      "execution_count": 4,
      "outputs": [
        {
          "output_type": "stream",
          "name": "stdout",
          "text": [
            "True\n",
            "1\n",
            "Tesla T4\n",
            "cpu\n"
          ]
        }
      ]
    },
    {
      "cell_type": "code",
      "source": [],
      "metadata": {
        "id": "Da3Ds7DnPHG8"
      },
      "execution_count": 4,
      "outputs": []
    },
    {
      "cell_type": "markdown",
      "source": [
        "# Завдання 3\n",
        "Створіть випадковий тензор розміру (2, 3). Виведіть інформацію про його:\n",
        "\n",
        "* розмір\n",
        "* тип даних\n",
        "* процесор\n",
        "* наявність градієнта"
      ],
      "metadata": {
        "id": "OkMil6fb7AiX"
      }
    },
    {
      "cell_type": "code",
      "source": [
        "tensor = torch.randn(5, 6)\n",
        "print(f'rand{tensor}\\n')\n",
        "tensor_view = tensor.view(6, 5)\n",
        "print(tensor_view)\n",
        "\n",
        "tensor_view = tensor.reshape(5, 6)\n",
        "tensor_view += 1\n",
        "tensor\n",
        "\n",
        "device = torch.device('cuda' if torch.cuda.is_available() else 'cpu')\n",
        "tensor = tensor.to(device)\n",
        "tensor\n",
        "\n",
        "tensor1 = torch.tensor(1.0, requires_grad=True)\n",
        "print(f'{tensor1=}')"
      ],
      "metadata": {
        "id": "rbwrM6C5Pndl",
        "outputId": "5afda643-2506-4245-ec4a-259b7a330c5a",
        "colab": {
          "base_uri": "https://localhost:8080/"
        }
      },
      "execution_count": 13,
      "outputs": [
        {
          "output_type": "stream",
          "name": "stdout",
          "text": [
            "randtensor([[-7.0543e-01, -9.5087e-01,  7.3863e-01, -2.1838e+00, -4.4461e-01,\n",
            "         -7.3682e-01],\n",
            "        [ 3.0342e-01, -1.7225e+00,  2.0519e+00, -6.1621e-01, -5.5384e-01,\n",
            "         -9.3781e-01],\n",
            "        [-6.8573e-01, -6.2163e-01, -5.9350e-01, -7.7530e-03,  6.0961e-02,\n",
            "         -1.5013e+00],\n",
            "        [ 1.4972e-01, -6.2001e-04, -6.2403e-01,  9.7544e-01, -2.5395e-02,\n",
            "          3.0590e-01],\n",
            "        [ 1.5218e+00, -5.9575e-01, -4.4355e-01, -1.5247e-01, -3.2424e-01,\n",
            "         -1.7679e-01]])\n",
            "\n",
            "tensor([[-7.0543e-01, -9.5087e-01,  7.3863e-01, -2.1838e+00, -4.4461e-01],\n",
            "        [-7.3682e-01,  3.0342e-01, -1.7225e+00,  2.0519e+00, -6.1621e-01],\n",
            "        [-5.5384e-01, -9.3781e-01, -6.8573e-01, -6.2163e-01, -5.9350e-01],\n",
            "        [-7.7530e-03,  6.0961e-02, -1.5013e+00,  1.4972e-01, -6.2001e-04],\n",
            "        [-6.2403e-01,  9.7544e-01, -2.5395e-02,  3.0590e-01,  1.5218e+00],\n",
            "        [-5.9575e-01, -4.4355e-01, -1.5247e-01, -3.2424e-01, -1.7679e-01]])\n",
            "tensor1=tensor(1., requires_grad=True)\n"
          ]
        }
      ]
    },
    {
      "cell_type": "markdown",
      "source": [
        "# Завдання 4\n",
        "\n",
        "Створіть 2 тензора розміру 100. Використовуючи лише модуль `torch` обрахуйте середьню абсолютну похибку(mae) між ними. Виведіть результат як число"
      ],
      "metadata": {
        "id": "nNrrplv_9Vha"
      }
    },
    {
      "cell_type": "code",
      "source": [
        "\n",
        "import torch\n",
        "import matplotlib.pyplot as plt\n",
        "\n",
        "def f(x):\n",
        "    return x**2 / 3 + torch.sin(torch.pi * x)\n",
        "\n",
        "x = torch.tensor(0.0, requires_grad=True)\n",
        "optimizer = torch.optim.SGD([x], lr=0.01)\n",
        "\n",
        "for _ in range(1000):\n",
        "    optimizer.zero_grad()\n",
        "    loss = f(x)\n",
        "    loss.backward()\n",
        "    optimizer.step()\n",
        "\n",
        "def f2(x):\n",
        "    return x**3 - 6*x**2 + 4*x + 12\n",
        "\n",
        "x2 = torch.tensor(0.0, requires_grad=True)\n",
        "optimizer2 = torch.optim.SGD([x2], lr=0.01)\n",
        "\n",
        "for _ in range(1000):\n",
        "    optimizer2.zero_grad()\n",
        "    loss2 = f2(x2)\n",
        "    loss2.backward()\n",
        "    optimizer2.step()\n",
        "\n",
        "tensor1 = torch.linspace(-5, 10, 100)\n",
        "tensor2 = torch.linspace(-5, 10, 100)\n",
        "\n",
        "values_f = f(tensor1)\n",
        "values_f2 = f2(tensor2)\n",
        "\n",
        "mae = torch.mean(torch.abs(values_f - values_f2))\n",
        "\n",
        "print(\"Mean Absolute Error (MAE):\", mae.item())\n",
        "\n",
        "plt.plot(tensor1.cpu(), values_f.cpu(), label='f(x)')\n",
        "plt.scatter(x.item(), f(x).item(), c='red', label='min f(x)')\n",
        "plt.plot(tensor2.cpu(), values_f2.cpu(), label='f2(x)')\n",
        "plt.scatter(x2.item(), f2(x2).item(), c='blue', label='min f2(x)')\n",
        "\n",
        "plt.legend()\n",
        "plt.show()\n",
        "\n"
      ],
      "metadata": {
        "id": "HybhfrBT9wT5",
        "outputId": "155ec76d-6592-4c4e-c3b5-fc9ee530c04f",
        "colab": {
          "base_uri": "https://localhost:8080/",
          "height": 448
        }
      },
      "execution_count": 22,
      "outputs": [
        {
          "output_type": "stream",
          "name": "stdout",
          "text": [
            "Mean Absolute Error (MAE): 80.84040832519531\n"
          ]
        },
        {
          "output_type": "display_data",
          "data": {
            "text/plain": [
              "<Figure size 640x480 with 1 Axes>"
            ],
            "image/png": "[encoded data removed]"
          },
          "metadata": {}
        }
      ]
    },
    {
      "cell_type": "markdown",
      "source": [
        "# Завдання 5\n",
        "\n",
        "Створіть 3 випадкових тензора з розмірами:\n",
        "* 32х28х28\n",
        "* 16х28х28\n",
        "* 64х28х28\n",
        "\n",
        "Об'єднайте їх по першій розмірності. Результат має мати розмір 112х28х28"
      ],
      "metadata": {
        "id": "JoU54G199w5-"
      }
    },
    {
      "cell_type": "code",
      "source": [
        "tensor1 = torch.rand((32, 28, 28))\n",
        "tensor2 = torch.rand((16, 28, 28))\n",
        "tensor3 = torch.rand((64, 28, 28))\n",
        "\n",
        "tensor4 = torch.cat((tensor1, tensor2, tensor3), dim=0)\n",
        "print(tensor4.size())"
      ],
      "metadata": {
        "id": "Ar7NOowB-NBn",
        "outputId": "7133b7ba-9421-46b8-f83d-c08b6ddee00a",
        "colab": {
          "base_uri": "https://localhost:8080/"
        }
      },
      "execution_count": 26,
      "outputs": [
        {
          "output_type": "stream",
          "name": "stdout",
          "text": [
            "torch.Size([112, 28, 28])\n"
          ]
        }
      ]
    },
    {
      "cell_type": "markdown",
      "source": [
        "# Завдання 6\n",
        "Застосуйте метод градієнтного спуску для функції"
      ],
      "metadata": {
        "id": "8v4erUf8-Tnn"
      }
    },
    {
      "cell_type": "code",
      "source": [
        "def f(x):\n",
        "  return x**2/3 + torch.sin(torch.pi*x)"
      ],
      "metadata": {
        "id": "c89FE7vc-aWy"
      },
      "execution_count": 5,
      "outputs": []
    },
    {
      "cell_type": "markdown",
      "source": [
        "# Завдання 7\n",
        "Застосуйте метод градієнтного спуску для функції. Мінімум функції рівний 0"
      ],
      "metadata": {
        "id": "UjHK74ES-iuO"
      }
    },
    {
      "cell_type": "code",
      "source": [
        "def f1(x, y):\n",
        "  # функція Швефеля\n",
        "  return  418.9829*2 - x*torch.sin(x.abs().sqrt()) - y*torch.sin(y.abs().sqrt())\n",
        "\n",
        "def f2(x, y):\n",
        "  # трьохгорбна функція\n",
        "  return 2*x**2  - 1.05*x**4 + 1/6*x**6 + x*y  + y**2\n",
        "\n",
        "def f3(x, y):\n",
        "  # функція птах\n",
        "  return 106.7645 + torch.sin(x)*torch.exp((1-torch.cos(y))**2) + \\\n",
        "  torch.cos(y)*torch.exp((1-torch.sin(x))**2) + \\\n",
        "  (x-y)**2"
      ],
      "metadata": {
        "id": "vRD515Ik_xM-"
      },
      "execution_count": 6,
      "outputs": []
    },
    {
      "cell_type": "code",
      "source": [],
      "metadata": {
        "id": "j2RaZh9E-oyK"
      },
      "execution_count": 6,
      "outputs": []
    }
  ]
}