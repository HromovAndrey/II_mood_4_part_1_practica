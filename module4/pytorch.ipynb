{
  "nbformat": 4,
  "nbformat_minor": 0,
  "metadata": {
    "colab": {
      "provenance": [],
      "toc_visible": true,
      "include_colab_link": true
    },
    "kernelspec": {
      "name": "python3",
      "display_name": "Python 3"
    },
    "language_info": {
      "name": "python"
    }
  },
  "cells": [
    {
      "cell_type": "markdown",
      "metadata": {
        "id": "view-in-github",
        "colab_type": "text"
      },
      "source": [
        "<a href=\"https://colab.research.google.com/github/HromovAndrey/II_mood_4_part_1_practica/blob/main/module4/pytorch.ipynb\" target=\"_parent\"><img src=\"https://colab.research.google.com/assets/colab-badge.svg\" alt=\"Open In Colab\"/></a>"
      ]
    },
    {
      "cell_type": "markdown",
      "source": [
        "# Тензор\n",
        "\n",
        "Tensor - це багатовимірний масив даних в PyTorch. Він схожий на\n",
        "Numpy array, але має ряд ключових відмінностей:\n",
        "\n",
        "* **Динамічна типізація:** Тензор PyTorch може мати різні типи\n",
        "    даних (наприклад, float, int, bool),\n",
        "    на відміну від Numpy array, де тип\n",
        "    даних фіксується при створенні.\n",
        "* **Підтримка GPU:** Тензори PyTorch можуть\n",
        "    використовуватися на GPU\n",
        "    для прискорення обчислень,\n",
        "    що недоступно в Numpy.\n",
        "* **Градієнти:** Тензори PyTorch\n",
        "    підтримують градієнти,\n",
        "    що робить їх зручними\n",
        "    для використання в\n",
        "    нейронних мережах."
      ],
      "metadata": {
        "id": "8g8hf7wwWFOc"
      }
    },
    {
      "cell_type": "markdown",
      "source": [
        "# Створення тензорів"
      ],
      "metadata": {
        "id": "KVrvyV2EWS8g"
      }
    },
    {
      "cell_type": "markdown",
      "source": [
        "**З Numpy array**"
      ],
      "metadata": {
        "id": "t8J19P5tWb-P"
      }
    },
    {
      "cell_type": "code",
      "source": [
        "import torch\n",
        "import numpy as np\n",
        "\n",
        "a = np.array([[1, 2, 3], [4, 5, 6]])\n",
        "tensor_a = torch.from_numpy(a)\n",
        "\n",
        "print(tensor_a, '\\n')\n",
        "\n",
        "print(f'{tensor_a.shape=}\\n')\n",
        "\n",
        "print(f'{tensor_a.size()=}')"
      ],
      "metadata": {
        "colab": {
          "base_uri": "https://localhost:8080/"
        },
        "id": "Gruc3khoWYCI",
        "outputId": "47725804-cb15-4a0b-9e91-be8d37f37b8f"
      },
      "execution_count": 7,
      "outputs": [
        {
          "output_type": "stream",
          "name": "stdout",
          "text": [
            "tensor([[1, 2, 3],\n",
            "        [4, 5, 6]]) \n",
            "\n",
            "tensor_a.shape=torch.Size([2, 3])\n",
            "\n",
            "tensor_a.size()=torch.Size([2, 3])\n"
          ]
        }
      ]
    },
    {
      "cell_type": "markdown",
      "source": [
        "**З списків:**"
      ],
      "metadata": {
        "id": "QAIpdDEwWk9P"
      }
    },
    {
      "cell_type": "code",
      "source": [
        "tensor_b = torch.tensor([[1, 2, 3], [4, 5, 6]])\n",
        "\n",
        "tensor_b"
      ],
      "metadata": {
        "colab": {
          "base_uri": "https://localhost:8080/"
        },
        "id": "NlbWkTJEWowv",
        "outputId": "49bb95dd-643b-49c6-f243-65e11b8042bb"
      },
      "execution_count": 8,
      "outputs": [
        {
          "output_type": "execute_result",
          "data": {
            "text/plain": [
              "tensor([[1, 2, 3],\n",
              "        [4, 5, 6]])"
            ]
          },
          "metadata": {},
          "execution_count": 8
        }
      ]
    },
    {
      "cell_type": "markdown",
      "source": [
        "**З функцій:**"
      ],
      "metadata": {
        "id": "C6x-R7zeWw3P"
      }
    },
    {
      "cell_type": "code",
      "source": [
        "tensor_c = torch.randn(3, 4)  # Випадкові числа\n",
        "tensor_d = torch.zeros(3, 4)  # Нулі\n",
        "tensor_e = torch.ones(3, 4)  # Одиниці\n",
        "\n",
        "print(f'rand {tensor_c}\\n')\n",
        "print(f'zero {tensor_d}\\n')\n",
        "print(f'one {tensor_e}\\n')"
      ],
      "metadata": {
        "colab": {
          "base_uri": "https://localhost:8080/"
        },
        "id": "uCau57fIW2I6",
        "outputId": "a4615cd4-ea44-4337-d583-3b55abfff9aa"
      },
      "execution_count": 9,
      "outputs": [
        {
          "output_type": "stream",
          "name": "stdout",
          "text": [
            "rand tensor([[ 1.3417,  0.1507, -0.4205, -0.7040],\n",
            "        [ 1.6942, -1.2887, -0.4800,  1.4177],\n",
            "        [-1.6244,  2.5379,  1.0573,  1.1235]])\n",
            "\n",
            "zero tensor([[0., 0., 0., 0.],\n",
            "        [0., 0., 0., 0.],\n",
            "        [0., 0., 0., 0.]])\n",
            "\n",
            "one tensor([[1., 1., 1., 1.],\n",
            "        [1., 1., 1., 1.],\n",
            "        [1., 1., 1., 1.]])\n",
            "\n"
          ]
        }
      ]
    },
    {
      "cell_type": "markdown",
      "source": [
        "# Індексування тензорів"
      ],
      "metadata": {
        "id": "l2GC2uEaXb3r"
      }
    },
    {
      "cell_type": "code",
      "source": [
        "tensor = torch.tensor([[1, 2, 3], [4, 5, 6]])\n",
        "print(f'{tensor=}\\n')\n",
        "\n",
        "# Отримати значення з тензора\n",
        "value = tensor[0, 1]  # 2\n",
        "print(f'{value=}\\n')\n",
        "\n",
        "# Отримати рядок\n",
        "row = tensor[0]  # tensor([1, 2, 3])\n",
        "print(f'{row=}\\n')\n",
        "\n",
        "# Отримати стовпець\n",
        "column = tensor[:, 1]  # tensor([2, 5])\n",
        "print(f'{column=}\\n')\n",
        "\n",
        "# Зміна значення\n",
        "tensor[0, 1] = 10\n",
        "print(f'{tensor=}\\n')\n",
        "\n",
        "# Зріз тензора\n",
        "sub_tensor = tensor[0:2, 1:3]  # tensor([[2, 3], [5, 6]])\n",
        "print(f'{sub_tensor=}\\n')"
      ],
      "metadata": {
        "colab": {
          "base_uri": "https://localhost:8080/"
        },
        "id": "BWxuXez5XbEh",
        "outputId": "e19fc7b4-5ebe-4a76-dd18-a999b03bc3ec"
      },
      "execution_count": 10,
      "outputs": [
        {
          "output_type": "stream",
          "name": "stdout",
          "text": [
            "tensor=tensor([[1, 2, 3],\n",
            "        [4, 5, 6]])\n",
            "\n",
            "value=tensor(2)\n",
            "\n",
            "row=tensor([1, 2, 3])\n",
            "\n",
            "column=tensor([2, 5])\n",
            "\n",
            "tensor=tensor([[ 1, 10,  3],\n",
            "        [ 4,  5,  6]])\n",
            "\n",
            "sub_tensor=tensor([[10,  3],\n",
            "        [ 5,  6]])\n",
            "\n"
          ]
        }
      ]
    },
    {
      "cell_type": "markdown",
      "source": [
        "**1. `item()`:**\n",
        "\n",
        "* Використовується для **отримання** **значення**\n",
        "    з **скалярного тензора**(тобто просто число).\n",
        "* **Не** використовується для тензорів\n",
        "    з **більшою розмірністю**,\n",
        "    тому що призведе до помилки.\n"
      ],
      "metadata": {
        "id": "1jCSKUNicFNT"
      }
    },
    {
      "cell_type": "code",
      "source": [
        "value.item()"
      ],
      "metadata": {
        "colab": {
          "base_uri": "https://localhost:8080/"
        },
        "id": "DPNsaNxHczzZ",
        "outputId": "00685bd4-8000-48a1-9d51-20b31af56572"
      },
      "execution_count": 11,
      "outputs": [
        {
          "output_type": "execute_result",
          "data": {
            "text/plain": [
              "10"
            ]
          },
          "metadata": {},
          "execution_count": 11
        }
      ]
    },
    {
      "cell_type": "code",
      "source": [
        "#tensor.item()"
      ],
      "metadata": {
        "id": "DYOZN0jqc8dw"
      },
      "execution_count": 12,
      "outputs": []
    },
    {
      "cell_type": "markdown",
      "source": [
        "**2. `numpy()`:**\n",
        "\n",
        "* Використовується для **перетворення**\n",
        "    тензора PyTorch в **Numpy array**.\n",
        "* Може використовуватися для тензорів\n",
        "    **з будь-якою розмірністю**."
      ],
      "metadata": {
        "id": "-fPoRCE1cvYH"
      }
    },
    {
      "cell_type": "code",
      "source": [
        "tensor.numpy()"
      ],
      "metadata": {
        "colab": {
          "base_uri": "https://localhost:8080/"
        },
        "id": "RiVF8gHJblkB",
        "outputId": "352aa25d-ca96-4541-d543-1df6a4612c4a"
      },
      "execution_count": 13,
      "outputs": [
        {
          "output_type": "execute_result",
          "data": {
            "text/plain": [
              "array([[ 1, 10,  3],\n",
              "       [ 4,  5,  6]])"
            ]
          },
          "metadata": {},
          "execution_count": 13
        }
      ]
    },
    {
      "cell_type": "markdown",
      "source": [
        "#Арифметичні операції та функції"
      ],
      "metadata": {
        "id": "9J6S9ECeXlyT"
      }
    },
    {
      "cell_type": "code",
      "source": [
        "tensor_a = torch.tensor([1, 2, 3])\n",
        "tensor_b = torch.tensor([4, 5, 6])\n",
        "\n",
        "# Додавання\n",
        "tensor_c = tensor_a + tensor_b  # tensor([5, 7, 9])\n",
        "\n",
        "# Множення\n",
        "tensor_d = tensor_a * tensor_b  # tensor([4, 10, 18])\n",
        "\n",
        "# Функції\n",
        "tensor_e = torch.sin(tensor_a)  # tensor([0.84147099, 0.90929743, 0.14112001])"
      ],
      "metadata": {
        "id": "aVpWagPJXq3_"
      },
      "execution_count": 14,
      "outputs": []
    },
    {
      "cell_type": "markdown",
      "source": [
        "#Зміна розмірів"
      ],
      "metadata": {
        "id": "5HvE25BnXvIy"
      }
    },
    {
      "cell_type": "markdown",
      "source": [
        "**`view`:** Зміна розміру тензора без зміни його даних.\n",
        "\n",
        "Використовувати по можливості, якщо виникатимуть помилки, то використати `reshape`"
      ],
      "metadata": {
        "id": "qhNhFpIeXxmR"
      }
    },
    {
      "cell_type": "code",
      "source": [
        "tensor = torch.tensor([[1, 2, 3], [4, 5, 6]])\n",
        "print(tensor)\n",
        "\n",
        "# Зміна форми з (2, 3) на (3, 2)\n",
        "tensor_view = tensor.view(3, 2)\n",
        "print()\n",
        "print(tensor_view)"
      ],
      "metadata": {
        "colab": {
          "base_uri": "https://localhost:8080/"
        },
        "id": "JJzrPagPX0Xg",
        "outputId": "433e3458-25ab-4e4d-fe23-bfbb7a4175dd"
      },
      "execution_count": 15,
      "outputs": [
        {
          "output_type": "stream",
          "name": "stdout",
          "text": [
            "tensor([[1, 2, 3],\n",
            "        [4, 5, 6]])\n",
            "\n",
            "tensor([[1, 2],\n",
            "        [3, 4],\n",
            "        [5, 6]])\n"
          ]
        }
      ]
    },
    {
      "cell_type": "code",
      "source": [
        "tensor_view += 1\n",
        "\n",
        "tensor"
      ],
      "metadata": {
        "colab": {
          "base_uri": "https://localhost:8080/"
        },
        "id": "_JcjbIU6X2ZF",
        "outputId": "21e9de0c-fc49-434f-a58f-3b46233273d8"
      },
      "execution_count": 16,
      "outputs": [
        {
          "output_type": "execute_result",
          "data": {
            "text/plain": [
              "tensor([[2, 3, 4],\n",
              "        [5, 6, 7]])"
            ]
          },
          "metadata": {},
          "execution_count": 16
        }
      ]
    },
    {
      "cell_type": "markdown",
      "source": [
        "**`reshape`:** Зміна розміру тензора з можливістю зміни його даних.\n",
        "\n",
        "Згідно документації, коли можливо створює `view`"
      ],
      "metadata": {
        "id": "zM_GLlu9X-QY"
      }
    },
    {
      "cell_type": "code",
      "source": [
        "tensor = torch.tensor([[1, 2, 3], [4, 5, 6]])\n",
        "\n",
        "# Зміна форми з (2, 3) на (3, 2)\n",
        "tensor_view = tensor.reshape(3, 2)"
      ],
      "metadata": {
        "id": "DiKeHOuNYA-X"
      },
      "execution_count": 17,
      "outputs": []
    },
    {
      "cell_type": "code",
      "source": [
        "tensor_view += 1\n",
        "\n",
        "tensor"
      ],
      "metadata": {
        "colab": {
          "base_uri": "https://localhost:8080/"
        },
        "id": "Fg0kuCRFYA-Y",
        "outputId": "9afffb6a-86e1-4ba0-af92-825f435d2717"
      },
      "execution_count": 18,
      "outputs": [
        {
          "output_type": "execute_result",
          "data": {
            "text/plain": [
              "tensor([[2, 3, 4],\n",
              "        [5, 6, 7]])"
            ]
          },
          "metadata": {},
          "execution_count": 18
        }
      ]
    },
    {
      "cell_type": "markdown",
      "source": [
        "# Конкатенація тензорів"
      ],
      "metadata": {
        "id": "stuiLyaBYJsj"
      }
    },
    {
      "cell_type": "markdown",
      "source": [
        "**`torch.cat`:** З'єднує тензори по заданій розмірності\n",
        "\n",
        "роль `axis` з numpy тут виконує параметр `dim`"
      ],
      "metadata": {
        "id": "4OV-f_MSYMGK"
      }
    },
    {
      "cell_type": "code",
      "source": [
        "tensor_a = torch.tensor([[1, 2], [3, 4]])\n",
        "tensor_b = torch.tensor([[5, 6], [7, 8]])\n",
        "\n",
        "# З'єднання по вертикалі (dim=0)\n",
        "tensor_c = torch.cat((tensor_a, tensor_b), dim=0)"
      ],
      "metadata": {
        "id": "OZZl-0oQYXTc"
      },
      "execution_count": 19,
      "outputs": []
    },
    {
      "cell_type": "code",
      "source": [
        "tensor_c.shape"
      ],
      "metadata": {
        "id": "w_0CwrgjRAKq",
        "outputId": "a2cfbc76-c974-45e3-ed6d-141300755712",
        "colab": {
          "base_uri": "https://localhost:8080/"
        }
      },
      "execution_count": 20,
      "outputs": [
        {
          "output_type": "execute_result",
          "data": {
            "text/plain": [
              "torch.Size([4, 2])"
            ]
          },
          "metadata": {},
          "execution_count": 20
        }
      ]
    },
    {
      "cell_type": "code",
      "source": [
        "print(f'{tensor_a}\\n')\n",
        "print(f'{tensor_b}\\n')\n",
        "print(f'{tensor_c}\\n')"
      ],
      "metadata": {
        "id": "mU0zXZuql577",
        "outputId": "1e124a92-5c76-47a8-8fae-5eaf69f3490d",
        "colab": {
          "base_uri": "https://localhost:8080/"
        }
      },
      "execution_count": 21,
      "outputs": [
        {
          "output_type": "stream",
          "name": "stdout",
          "text": [
            "tensor([[1, 2],\n",
            "        [3, 4]])\n",
            "\n",
            "tensor([[5, 6],\n",
            "        [7, 8]])\n",
            "\n",
            "tensor([[1, 2],\n",
            "        [3, 4],\n",
            "        [5, 6],\n",
            "        [7, 8]])\n",
            "\n"
          ]
        }
      ]
    },
    {
      "cell_type": "markdown",
      "source": [
        "# Device\n",
        "\n",
        "**Device** в PyTorch - це абстракція,\n",
        "що використовується для опису\n",
        "**місця розташування** даних\n",
        "тензора. Це може бути **CPU**\n",
        "або **GPU**."
      ],
      "metadata": {
        "id": "zS3esjgrfcxP"
      }
    },
    {
      "cell_type": "markdown",
      "source": [
        "## Перегляд інформації про device:\n",
        "\n",
        "* `torch.cuda.is_available()`:\n",
        "    Перевіряє, чи доступний\n",
        "    GPU.\n",
        "* `torch.cuda.device_count()`:\n",
        "    Отримує кількість\n",
        "    доступних GPU.\n",
        "* `torch.cuda.get_device_name(device)`:\n",
        "    Отримує назву\n",
        "    конкретного GPU.\n",
        "* `.device`: Атрибут тензора,\n",
        "    що показує, на\n",
        "    якому device він\n",
        "    розташований."
      ],
      "metadata": {
        "id": "O7sZuf1Ffcf_"
      }
    },
    {
      "cell_type": "code",
      "source": [
        "print(torch.cuda.is_available())  # True/False\n",
        "\n",
        "if torch.cuda.is_available():\n",
        "    print(torch.cuda.device_count())  # Кількість GPU\n",
        "    print(torch.cuda.get_device_name(0))  # Назва першого GPU\n",
        "\n",
        "tensor = torch.tensor([1, 2, 3])\n",
        "print(tensor.device)  # CPU"
      ],
      "metadata": {
        "colab": {
          "base_uri": "https://localhost:8080/"
        },
        "id": "V96ZENUYfiUj",
        "outputId": "7df7ab50-21cd-4019-8a9e-a5cd392004c5"
      },
      "execution_count": 22,
      "outputs": [
        {
          "output_type": "stream",
          "name": "stdout",
          "text": [
            "False\n",
            "cpu\n"
          ]
        }
      ]
    },
    {
      "cell_type": "markdown",
      "source": [
        "## Підключення тензора до device\n",
        "\n",
        "* `.to(device)`: Переміщує\n",
        "    тензор на\n",
        "    заданий device."
      ],
      "metadata": {
        "id": "HKtNgYMufrWn"
      }
    },
    {
      "cell_type": "code",
      "source": [
        "device = torch.device('cuda' if torch.cuda.is_available() else 'cpu')\n",
        "\n",
        "tensor = torch.tensor([1, 2, 3])\n",
        "tensor = tensor.to(device)\n",
        "\n",
        "tensor"
      ],
      "metadata": {
        "colab": {
          "base_uri": "https://localhost:8080/"
        },
        "id": "QL7rvfKLfr-h",
        "outputId": "2891c1b3-c454-4350-93ea-09b4c3ec7863"
      },
      "execution_count": 23,
      "outputs": [
        {
          "output_type": "execute_result",
          "data": {
            "text/plain": [
              "tensor([1, 2, 3])"
            ]
          },
          "metadata": {},
          "execution_count": 23
        }
      ]
    },
    {
      "cell_type": "code",
      "source": [
        "device"
      ],
      "metadata": {
        "id": "88XpM5rLJeAi",
        "outputId": "d7c3735f-9dc1-4246-a691-be96151ed05a",
        "colab": {
          "base_uri": "https://localhost:8080/"
        }
      },
      "execution_count": 24,
      "outputs": [
        {
          "output_type": "execute_result",
          "data": {
            "text/plain": [
              "device(type='cpu')"
            ]
          },
          "metadata": {},
          "execution_count": 24
        }
      ]
    },
    {
      "cell_type": "code",
      "source": [
        "tensor = torch.tensor([1, 2, 3], device=device)\n",
        "tensor"
      ],
      "metadata": {
        "id": "F_gbJJ_9gHwU",
        "outputId": "5f16a367-83cc-4952-a7d0-1ae631c2e33c",
        "colab": {
          "base_uri": "https://localhost:8080/"
        }
      },
      "execution_count": 25,
      "outputs": [
        {
          "output_type": "execute_result",
          "data": {
            "text/plain": [
              "tensor([1, 2, 3])"
            ]
          },
          "metadata": {},
          "execution_count": 25
        }
      ]
    },
    {
      "cell_type": "markdown",
      "source": [
        "# Градієнтний спуск"
      ],
      "metadata": {
        "id": "bLDmYZVKhHoX"
      }
    },
    {
      "cell_type": "markdown",
      "source": [
        "## Задача мінімізації\n",
        "\n",
        "Градієнтний спуск - це ітераційний алгоритм\n",
        "для **оптимізації** **функції**,\n",
        "що знаходить **мінімальне значення**\n",
        "цієї функції.\n",
        "\n",
        "**Формулювання задачі:**\n",
        "\n",
        "* **Функція:** $f(x)$\n",
        "* **Змінна:** $x$\n",
        "* **Мета:** Знайти $x_{min}$, таке, що $f(x_{min}) \\leq f(x)$ для всіх $x$"
      ],
      "metadata": {
        "id": "seOlCTxZhM_l"
      }
    },
    {
      "cell_type": "markdown",
      "source": [
        "## Градієнт\n",
        "\n",
        "**Градієнт** - це вектор,\n",
        "що показує **напрямок**\n",
        "**найбільшого зростання**\n",
        "**багатовимірної**\n",
        "**функції**.\n",
        "\n",
        "\n",
        "Позначається так: $\\nabla f(x)$"
      ],
      "metadata": {
        "id": "by-v7M3Qh4iP"
      }
    },
    {
      "cell_type": "markdown",
      "source": [
        "Щоб вказати, що для даного тензора потрібно вказати `requires_grad`\n",
        "\n",
        "Примітка: лише для тензорів з даними типу `float`"
      ],
      "metadata": {
        "id": "7TUGLKL2iixM"
      }
    },
    {
      "cell_type": "code",
      "source": [
        "tensor1 = torch.tensor(1.0, requires_grad=True)\n",
        "print(f'{tensor1=}')\n",
        "\n",
        "# або через атрибут\n",
        "tensor2 = torch.tensor([1., 2., 3.])\n",
        "tensor2.requires_grad = True\n",
        "\n",
        "print(f'{tensor2=}')\n",
        "print(f'tensor2={tensor2}')"
      ],
      "metadata": {
        "colab": {
          "base_uri": "https://localhost:8080/"
        },
        "id": "C0BAl10FibiR",
        "outputId": "296c3fb1-7685-4d8a-d47e-3261752f67d8"
      },
      "execution_count": 26,
      "outputs": [
        {
          "output_type": "stream",
          "name": "stdout",
          "text": [
            "tensor1=tensor(1., requires_grad=True)\n",
            "tensor2=tensor([1., 2., 3.], requires_grad=True)\n",
            "tensor2=tensor([1., 2., 3.], requires_grad=True)\n"
          ]
        }
      ]
    },
    {
      "cell_type": "markdown",
      "source": [
        "Для того, щоб вказати аби тензор не мав градієнта, використовують функцію `detach`"
      ],
      "metadata": {
        "id": "ELiBwBZYoF7S"
      }
    },
    {
      "cell_type": "code",
      "source": [
        "tensor2.detach()"
      ],
      "metadata": {
        "colab": {
          "base_uri": "https://localhost:8080/"
        },
        "id": "KRWFt8lWjSB6",
        "outputId": "056effbb-1c43-4d8c-8a83-465eca047c80"
      },
      "execution_count": 27,
      "outputs": [
        {
          "output_type": "execute_result",
          "data": {
            "text/plain": [
              "tensor([1., 2., 3.])"
            ]
          },
          "metadata": {},
          "execution_count": 27
        }
      ]
    },
    {
      "cell_type": "code",
      "source": [
        "tensor2"
      ],
      "metadata": {
        "id": "021JymfFq_yf",
        "outputId": "8eb6d7e3-e252-4b97-9e30-34196e790f51",
        "colab": {
          "base_uri": "https://localhost:8080/"
        }
      },
      "execution_count": 28,
      "outputs": [
        {
          "output_type": "execute_result",
          "data": {
            "text/plain": [
              "tensor([1., 2., 3.], requires_grad=True)"
            ]
          },
          "metadata": {},
          "execution_count": 28
        }
      ]
    },
    {
      "cell_type": "markdown",
      "source": [
        "## Граф обчислень"
      ],
      "metadata": {
        "id": "UVJBfaSmqCVy"
      }
    },
    {
      "cell_type": "markdown",
      "source": [
        "Граф обчислень в PyTorch - це\n",
        "динамічна структура даних,\n",
        "що використовується\n",
        "для представлення\n",
        "операцій для обчислення градієнтів"
      ],
      "metadata": {
        "id": "08Y0g4Zpr2ht"
      }
    },
    {
      "cell_type": "code",
      "source": [
        "x = torch.tensor(2., requires_grad=True)\n",
        "y = torch.tensor(3., requires_grad=True)\n",
        "z = torch.tensor(4., requires_grad=True)\n",
        "\n",
        "out = z*(x + y)"
      ],
      "metadata": {
        "id": "WLXK7-KSjR7M"
      },
      "execution_count": 29,
      "outputs": []
    },
    {
      "cell_type": "code",
      "source": [
        "out"
      ],
      "metadata": {
        "colab": {
          "base_uri": "https://localhost:8080/"
        },
        "id": "yEX7oKXKqqla",
        "outputId": "4edd8c6c-2ee7-4809-836c-56ef48cf5f46"
      },
      "execution_count": 30,
      "outputs": [
        {
          "output_type": "execute_result",
          "data": {
            "text/plain": [
              "tensor(20., grad_fn=<MulBackward0>)"
            ]
          },
          "metadata": {},
          "execution_count": 30
        }
      ]
    },
    {
      "cell_type": "code",
      "source": [
        "!pip install -q torchviz"
      ],
      "metadata": {
        "id": "ZhMODqK4ql_4",
        "outputId": "235f5b89-85ad-49dc-a2ac-74df2554eb02",
        "colab": {
          "base_uri": "https://localhost:8080/"
        }
      },
      "execution_count": 31,
      "outputs": [
        {
          "output_type": "stream",
          "name": "stdout",
          "text": [
            "  Preparing metadata (setup.py) ... \u001b[?25l\u001b[?25hdone\n",
            "\u001b[2K   \u001b[90m━━━━━━━━━━━━━━━━━━━━━━━━━━━━━━━━━━━━━━━━\u001b[0m \u001b[32m21.3/21.3 MB\u001b[0m \u001b[31m20.5 MB/s\u001b[0m eta \u001b[36m0:00:00\u001b[0m\n",
            "\u001b[?25h  Building wheel for torchviz (setup.py) ... \u001b[?25l\u001b[?25hdone\n"
          ]
        }
      ]
    },
    {
      "cell_type": "code",
      "source": [
        "from torchviz import make_dot\n",
        "\n",
        "dot = make_dot(out, params={'x': x, 'y':y, 'z':z, 'out':out})\n",
        "dot"
      ],
      "metadata": {
        "id": "i1XX0pL0jRyJ",
        "outputId": "c2ffba6d-8b71-4580-e7ff-0b956d21f9be",
        "colab": {
          "base_uri": "https://localhost:8080/",
          "height": 395
        }
      },
      "execution_count": 32,
      "outputs": [
        {
          "output_type": "execute_result",
          "data": {
            "image/svg+xml": "<?xml version=\"1.0\" encoding=\"UTF-8\" standalone=\"no\"?>\n<!DOCTYPE svg PUBLIC \"-//W3C//DTD SVG 1.1//EN\"\n \"http://www.w3.org/Graphics/SVG/1.1/DTD/svg11.dtd\">\n<!-- Generated by graphviz version 2.43.0 (0)\n -->\n<!-- Title: %3 Pages: 1 -->\n<svg width=\"332pt\" height=\"280pt\"\n viewBox=\"0.00 0.00 332.00 280.00\" xmlns=\"http://www.w3.org/2000/svg\" xmlns:xlink=\"http://www.w3.org/1999/xlink\">\n<g id=\"graph0\" class=\"graph\" transform=\"scale(1 1) rotate(0) translate(4 276)\">\n<title>%3</title>\n<polygon fill=\"white\" stroke=\"transparent\" points=\"-4,4 -4,-276 328,-276 328,4 -4,4\"/>\n<!-- 139322213167760 -->\n<g id=\"node1\" class=\"node\">\n<title>139322213167760</title>\n<polygon fill=\"#caff70\" stroke=\"black\" points=\"133.5,-30 79.5,-30 79.5,0 133.5,0 133.5,-30\"/>\n<text text-anchor=\"middle\" x=\"106.5\" y=\"-18\" font-family=\"monospace\" font-size=\"10.00\">out</text>\n<text text-anchor=\"middle\" x=\"106.5\" y=\"-7\" font-family=\"monospace\" font-size=\"10.00\"> ()</text>\n</g>\n<!-- 139322213361328 -->\n<g id=\"node2\" class=\"node\">\n<title>139322213361328</title>\n<polygon fill=\"lightgrey\" stroke=\"black\" points=\"151,-85 62,-85 62,-66 151,-66 151,-85\"/>\n<text text-anchor=\"middle\" x=\"106.5\" y=\"-73\" font-family=\"monospace\" font-size=\"10.00\">MulBackward0</text>\n</g>\n<!-- 139322213361328&#45;&gt;139322213167760 -->\n<g id=\"edge8\" class=\"edge\">\n<title>139322213361328&#45;&gt;139322213167760</title>\n<path fill=\"none\" stroke=\"black\" d=\"M106.5,-65.87C106.5,-59.11 106.5,-49.35 106.5,-40.26\"/>\n<polygon fill=\"black\" stroke=\"black\" points=\"110,-40.11 106.5,-30.11 103,-40.11 110,-40.11\"/>\n</g>\n<!-- 139322213360944 -->\n<g id=\"node3\" class=\"node\">\n<title>139322213360944</title>\n<polygon fill=\"lightgrey\" stroke=\"black\" points=\"101,-140 0,-140 0,-121 101,-121 101,-140\"/>\n<text text-anchor=\"middle\" x=\"50.5\" y=\"-128\" font-family=\"monospace\" font-size=\"10.00\">AccumulateGrad</text>\n</g>\n<!-- 139322213360944&#45;&gt;139322213361328 -->\n<g id=\"edge1\" class=\"edge\">\n<title>139322213360944&#45;&gt;139322213361328</title>\n<path fill=\"none\" stroke=\"black\" d=\"M59.5,-120.98C67.69,-113.23 80.01,-101.58 89.97,-92.14\"/>\n<polygon fill=\"black\" stroke=\"black\" points=\"92.48,-94.59 97.34,-85.17 87.67,-89.5 92.48,-94.59\"/>\n</g>\n<!-- 139322213167600 -->\n<g id=\"node4\" class=\"node\">\n<title>139322213167600</title>\n<polygon fill=\"lightblue\" stroke=\"black\" points=\"77.5,-206 23.5,-206 23.5,-176 77.5,-176 77.5,-206\"/>\n<text text-anchor=\"middle\" x=\"50.5\" y=\"-194\" font-family=\"monospace\" font-size=\"10.00\">z</text>\n<text text-anchor=\"middle\" x=\"50.5\" y=\"-183\" font-family=\"monospace\" font-size=\"10.00\"> ()</text>\n</g>\n<!-- 139322213167600&#45;&gt;139322213360944 -->\n<g id=\"edge2\" class=\"edge\">\n<title>139322213167600&#45;&gt;139322213360944</title>\n<path fill=\"none\" stroke=\"black\" d=\"M50.5,-175.84C50.5,-168.21 50.5,-158.7 50.5,-150.45\"/>\n<polygon fill=\"black\" stroke=\"black\" points=\"54,-150.27 50.5,-140.27 47,-150.27 54,-150.27\"/>\n</g>\n<!-- 139322213361040 -->\n<g id=\"node5\" class=\"node\">\n<title>139322213361040</title>\n<polygon fill=\"lightgrey\" stroke=\"black\" points=\"208,-140 119,-140 119,-121 208,-121 208,-140\"/>\n<text text-anchor=\"middle\" x=\"163.5\" y=\"-128\" font-family=\"monospace\" font-size=\"10.00\">AddBackward0</text>\n</g>\n<!-- 139322213361040&#45;&gt;139322213361328 -->\n<g id=\"edge3\" class=\"edge\">\n<title>139322213361040&#45;&gt;139322213361328</title>\n<path fill=\"none\" stroke=\"black\" d=\"M154.34,-120.98C146,-113.23 133.47,-101.58 123.32,-92.14\"/>\n<polygon fill=\"black\" stroke=\"black\" points=\"125.53,-89.42 115.82,-85.17 120.76,-94.54 125.53,-89.42\"/>\n</g>\n<!-- 139322213360896 -->\n<g id=\"node6\" class=\"node\">\n<title>139322213360896</title>\n<polygon fill=\"lightgrey\" stroke=\"black\" points=\"205,-200.5 104,-200.5 104,-181.5 205,-181.5 205,-200.5\"/>\n<text text-anchor=\"middle\" x=\"154.5\" y=\"-188.5\" font-family=\"monospace\" font-size=\"10.00\">AccumulateGrad</text>\n</g>\n<!-- 139322213360896&#45;&gt;139322213361040 -->\n<g id=\"edge4\" class=\"edge\">\n<title>139322213360896&#45;&gt;139322213361040</title>\n<path fill=\"none\" stroke=\"black\" d=\"M155.83,-181.37C157.09,-173.16 159.03,-160.54 160.65,-150.05\"/>\n<polygon fill=\"black\" stroke=\"black\" points=\"164.11,-150.58 162.17,-140.17 157.19,-149.52 164.11,-150.58\"/>\n</g>\n<!-- 139322213167200 -->\n<g id=\"node7\" class=\"node\">\n<title>139322213167200</title>\n<polygon fill=\"lightblue\" stroke=\"black\" points=\"181.5,-272 127.5,-272 127.5,-242 181.5,-242 181.5,-272\"/>\n<text text-anchor=\"middle\" x=\"154.5\" y=\"-260\" font-family=\"monospace\" font-size=\"10.00\">x</text>\n<text text-anchor=\"middle\" x=\"154.5\" y=\"-249\" font-family=\"monospace\" font-size=\"10.00\"> ()</text>\n</g>\n<!-- 139322213167200&#45;&gt;139322213360896 -->\n<g id=\"edge5\" class=\"edge\">\n<title>139322213167200&#45;&gt;139322213360896</title>\n<path fill=\"none\" stroke=\"black\" d=\"M154.5,-241.8C154.5,-232.7 154.5,-220.79 154.5,-210.9\"/>\n<polygon fill=\"black\" stroke=\"black\" points=\"158,-210.84 154.5,-200.84 151,-210.84 158,-210.84\"/>\n</g>\n<!-- 139322213361088 -->\n<g id=\"node8\" class=\"node\">\n<title>139322213361088</title>\n<polygon fill=\"lightgrey\" stroke=\"black\" points=\"324,-200.5 223,-200.5 223,-181.5 324,-181.5 324,-200.5\"/>\n<text text-anchor=\"middle\" x=\"273.5\" y=\"-188.5\" font-family=\"monospace\" font-size=\"10.00\">AccumulateGrad</text>\n</g>\n<!-- 139322213361088&#45;&gt;139322213361040 -->\n<g id=\"edge6\" class=\"edge\">\n<title>139322213361088&#45;&gt;139322213361040</title>\n<path fill=\"none\" stroke=\"black\" d=\"M257.27,-181.37C239.23,-171.78 209.88,-156.17 188.82,-144.97\"/>\n<polygon fill=\"black\" stroke=\"black\" points=\"190.27,-141.77 179.8,-140.17 186.98,-147.95 190.27,-141.77\"/>\n</g>\n<!-- 139322213167440 -->\n<g id=\"node9\" class=\"node\">\n<title>139322213167440</title>\n<polygon fill=\"lightblue\" stroke=\"black\" points=\"300.5,-272 246.5,-272 246.5,-242 300.5,-242 300.5,-272\"/>\n<text text-anchor=\"middle\" x=\"273.5\" y=\"-260\" font-family=\"monospace\" font-size=\"10.00\">y</text>\n<text text-anchor=\"middle\" x=\"273.5\" y=\"-249\" font-family=\"monospace\" font-size=\"10.00\"> ()</text>\n</g>\n<!-- 139322213167440&#45;&gt;139322213361088 -->\n<g id=\"edge7\" class=\"edge\">\n<title>139322213167440&#45;&gt;139322213361088</title>\n<path fill=\"none\" stroke=\"black\" d=\"M273.5,-241.8C273.5,-232.7 273.5,-220.79 273.5,-210.9\"/>\n<polygon fill=\"black\" stroke=\"black\" points=\"277,-210.84 273.5,-200.84 270,-210.84 277,-210.84\"/>\n</g>\n</g>\n</svg>\n",
            "text/plain": [
              "<graphviz.graphs.Digraph at 0x7eb67b0966e0>"
            ]
          },
          "metadata": {},
          "execution_count": 32
        }
      ]
    },
    {
      "cell_type": "markdown",
      "source": [
        "\n",
        "## Алгоритм градієнтного спуску\n",
        "\n",
        "1. **Ініціалізація:**\n",
        "  Виберіть початкове\n",
        "  значення $x^{(0)}$.\n",
        "2. **Ітерація:**\n",
        "    * Розрахуйте градієнт $\\nabla f(x^{(k)})$\n",
        "      в поточній точці $x^{(k)}$.\n",
        "    * Зробіть крок\n",
        "      в **протилежному**\n",
        "      до градієнта\n",
        "      напрямку:\n",
        "      \n",
        "      $x^{(k+1)} = x^{(k)} - \\alpha \\nabla f(x^{(k)})$\n",
        "      \n",
        "      **Де:**\n",
        "      \n",
        "      * $\\alpha$ - **швидкість**\n",
        "        навчання\n",
        "    * Повторіть\n",
        "      кроки 2.1\n",
        "      та 2.2\n",
        "      до\n",
        "      зближення\n",
        "      з\n",
        "      мінімумом.\n",
        "\n",
        "![](https://ml-explained.com/articles/gradient-descent-explained/gradient_descent.gif)\n",
        "\n",
        "![](https://upload.wikimedia.org/wikipedia/commons/a/a3/Gradient_descent.gif)"
      ],
      "metadata": {
        "id": "WeFnPnnUhHbw"
      }
    },
    {
      "cell_type": "code",
      "source": [
        "def f(x):  # функція для мінімізації\n",
        "  return x**2 - 3*x + 4"
      ],
      "metadata": {
        "id": "UlWFr6f-kYRI"
      },
      "execution_count": 33,
      "outputs": []
    },
    {
      "cell_type": "code",
      "source": [
        "# підкоючаємо процесор\n",
        "device = \"cuda\" if torch.cuda.is_available() else \"cpu\"\n",
        "torch.set_default_device(device)\n",
        "\n",
        "# вибираємо початкове значення\n",
        "x = torch.tensor(2.0, requires_grad=True)\n",
        "\n",
        "# швидкість навчання\n",
        "learning_rate = 1e-3\n",
        "\n",
        "for t in range(2000):\n",
        "    # обчислюємо функцію яку потрібно мінімізувати\n",
        "    loss = f(x)\n",
        "\n",
        "    # обчислюємо всі потрібні градієнти\n",
        "    loss.backward()\n",
        "\n",
        "    # вивід значення функції\n",
        "    if t % 100 == 0:\n",
        "      print(f'{loss.item()=}')\n",
        "\n",
        "    # градієнтний спуск\n",
        "    with torch.no_grad():\n",
        "\n",
        "      x -= learning_rate*x.grad\n",
        "\n",
        "      # очищуємо пам'ять для повторного обчислення градієнтів\n",
        "      x.grad = None"
      ],
      "metadata": {
        "colab": {
          "base_uri": "https://localhost:8080/"
        },
        "id": "83XZTwtmiT59",
        "outputId": "b6e7f8ba-7abf-49b9-e877-1649705d64c1"
      },
      "execution_count": 34,
      "outputs": [
        {
          "output_type": "stream",
          "name": "stdout",
          "text": [
            "loss.item()=2.0\n",
            "loss.item()=1.917513132095337\n",
            "loss.item()=1.8622424602508545\n",
            "loss.item()=1.8252077102661133\n",
            "loss.item()=1.8003933429718018\n",
            "loss.item()=1.783766269683838\n",
            "loss.item()=1.772625207901001\n",
            "loss.item()=1.765160083770752\n",
            "loss.item()=1.760157823562622\n",
            "loss.item()=1.7568061351776123\n",
            "loss.item()=1.7545607089996338\n",
            "loss.item()=1.7530560493469238\n",
            "loss.item()=1.7520473003387451\n",
            "loss.item()=1.7513718605041504\n",
            "loss.item()=1.7509193420410156\n",
            "loss.item()=1.7506158351898193\n",
            "loss.item()=1.7504124641418457\n",
            "loss.item()=1.7502765655517578\n",
            "loss.item()=1.750185251235962\n",
            "loss.item()=1.750124454498291\n"
          ]
        }
      ]
    },
    {
      "cell_type": "code",
      "source": [
        "import matplotlib.pyplot as plt\n",
        "\n",
        "xs = torch.linspace(-3, 5, 100)\n",
        "plt.plot(xs.cpu(), f(xs).cpu(), label='f(x)')\n",
        "plt.scatter(x.item(), f(x).item(), c='red', label='min')\n",
        "plt.legend()"
      ],
      "metadata": {
        "colab": {
          "base_uri": "https://localhost:8080/",
          "height": 448
        },
        "id": "Si7zLPdGlL6y",
        "outputId": "badf4a60-1943-4fa6-d650-be16aa796d75"
      },
      "execution_count": 35,
      "outputs": [
        {
          "output_type": "execute_result",
          "data": {
            "text/plain": [
              "<matplotlib.legend.Legend at 0x7eb67b05ab00>"
            ]
          },
          "metadata": {},
          "execution_count": 35
        },
        {
          "output_type": "display_data",
          "data": {
            "text/plain": [
              "<Figure size 640x480 with 1 Axes>"
            ],
            "image/png": "[encoded data removed]"
          },
          "metadata": {}
        }
      ]
    },
    {
      "cell_type": "code",
      "source": [
        "x"
      ],
      "metadata": {
        "id": "rGS44lN1Kk8T",
        "outputId": "45b593c9-34fb-4573-88f8-701831da1f1e",
        "colab": {
          "base_uri": "https://localhost:8080/"
        }
      },
      "execution_count": 36,
      "outputs": [
        {
          "output_type": "execute_result",
          "data": {
            "text/plain": [
              "tensor(1.5091, requires_grad=True)"
            ]
          },
          "metadata": {},
          "execution_count": 36
        }
      ]
    },
    {
      "cell_type": "code",
      "source": [
        "loss = f(x)\n",
        "\n",
        "dot = make_dot(loss, params={'x': x, 'f(x)': loss})\n",
        "dot"
      ],
      "metadata": {
        "id": "eWPIQGIXv_II",
        "outputId": "19162c2e-7584-45f1-b038-03ee5ac20a0d",
        "colab": {
          "base_uri": "https://localhost:8080/",
          "height": 454
        }
      },
      "execution_count": 37,
      "outputs": [
        {
          "output_type": "execute_result",
          "data": {
            "image/svg+xml": "<?xml version=\"1.0\" encoding=\"UTF-8\" standalone=\"no\"?>\n<!DOCTYPE svg PUBLIC \"-//W3C//DTD SVG 1.1//EN\"\n \"http://www.w3.org/Graphics/SVG/1.1/DTD/svg11.dtd\">\n<!-- Generated by graphviz version 2.43.0 (0)\n -->\n<!-- Title: %3 Pages: 1 -->\n<svg width=\"204pt\" height=\"324pt\"\n viewBox=\"0.00 0.00 204.00 324.00\" xmlns=\"http://www.w3.org/2000/svg\" xmlns:xlink=\"http://www.w3.org/1999/xlink\">\n<g id=\"graph0\" class=\"graph\" transform=\"scale(1 1) rotate(0) translate(4 320)\">\n<title>%3</title>\n<polygon fill=\"white\" stroke=\"transparent\" points=\"-4,4 -4,-320 200,-320 200,4 -4,4\"/>\n<!-- 139322212360304 -->\n<g id=\"node1\" class=\"node\">\n<title>139322212360304</title>\n<polygon fill=\"#caff70\" stroke=\"black\" points=\"124.5,-30 70.5,-30 70.5,0 124.5,0 124.5,-30\"/>\n<text text-anchor=\"middle\" x=\"97.5\" y=\"-18\" font-family=\"monospace\" font-size=\"10.00\">f(x)</text>\n<text text-anchor=\"middle\" x=\"97.5\" y=\"-7\" font-family=\"monospace\" font-size=\"10.00\"> ()</text>\n</g>\n<!-- 139322177216448 -->\n<g id=\"node2\" class=\"node\">\n<title>139322177216448</title>\n<polygon fill=\"lightgrey\" stroke=\"black\" points=\"142,-85 53,-85 53,-66 142,-66 142,-85\"/>\n<text text-anchor=\"middle\" x=\"97.5\" y=\"-73\" font-family=\"monospace\" font-size=\"10.00\">AddBackward0</text>\n</g>\n<!-- 139322177216448&#45;&gt;139322212360304 -->\n<g id=\"edge7\" class=\"edge\">\n<title>139322177216448&#45;&gt;139322212360304</title>\n<path fill=\"none\" stroke=\"black\" d=\"M97.5,-65.87C97.5,-59.11 97.5,-49.35 97.5,-40.26\"/>\n<polygon fill=\"black\" stroke=\"black\" points=\"101,-40.11 97.5,-30.11 94,-40.11 101,-40.11\"/>\n</g>\n<!-- 139322177217408 -->\n<g id=\"node3\" class=\"node\">\n<title>139322177217408</title>\n<polygon fill=\"lightgrey\" stroke=\"black\" points=\"142,-140 53,-140 53,-121 142,-121 142,-140\"/>\n<text text-anchor=\"middle\" x=\"97.5\" y=\"-128\" font-family=\"monospace\" font-size=\"10.00\">SubBackward0</text>\n</g>\n<!-- 139322177217408&#45;&gt;139322177216448 -->\n<g id=\"edge1\" class=\"edge\">\n<title>139322177217408&#45;&gt;139322177216448</title>\n<path fill=\"none\" stroke=\"black\" d=\"M97.5,-120.75C97.5,-113.8 97.5,-103.85 97.5,-95.13\"/>\n<polygon fill=\"black\" stroke=\"black\" points=\"101,-95.09 97.5,-85.09 94,-95.09 101,-95.09\"/>\n</g>\n<!-- 139322177217504 -->\n<g id=\"node4\" class=\"node\">\n<title>139322177217504</title>\n<polygon fill=\"lightgrey\" stroke=\"black\" points=\"89,-195 0,-195 0,-176 89,-176 89,-195\"/>\n<text text-anchor=\"middle\" x=\"44.5\" y=\"-183\" font-family=\"monospace\" font-size=\"10.00\">PowBackward0</text>\n</g>\n<!-- 139322177217504&#45;&gt;139322177217408 -->\n<g id=\"edge2\" class=\"edge\">\n<title>139322177217504&#45;&gt;139322177217408</title>\n<path fill=\"none\" stroke=\"black\" d=\"M53.25,-175.75C60.97,-168.03 72.4,-156.6 81.72,-147.28\"/>\n<polygon fill=\"black\" stroke=\"black\" points=\"84.31,-149.64 88.91,-140.09 79.36,-144.69 84.31,-149.64\"/>\n</g>\n<!-- 139322177217648 -->\n<g id=\"node5\" class=\"node\">\n<title>139322177217648</title>\n<polygon fill=\"lightgrey\" stroke=\"black\" points=\"148,-250 47,-250 47,-231 148,-231 148,-250\"/>\n<text text-anchor=\"middle\" x=\"97.5\" y=\"-238\" font-family=\"monospace\" font-size=\"10.00\">AccumulateGrad</text>\n</g>\n<!-- 139322177217648&#45;&gt;139322177217504 -->\n<g id=\"edge3\" class=\"edge\">\n<title>139322177217648&#45;&gt;139322177217504</title>\n<path fill=\"none\" stroke=\"black\" d=\"M88.75,-230.75C81.03,-223.03 69.6,-211.6 60.28,-202.28\"/>\n<polygon fill=\"black\" stroke=\"black\" points=\"62.64,-199.69 53.09,-195.09 57.69,-204.64 62.64,-199.69\"/>\n</g>\n<!-- 139322177217456 -->\n<g id=\"node7\" class=\"node\">\n<title>139322177217456</title>\n<polygon fill=\"lightgrey\" stroke=\"black\" points=\"196,-195 107,-195 107,-176 196,-176 196,-195\"/>\n<text text-anchor=\"middle\" x=\"151.5\" y=\"-183\" font-family=\"monospace\" font-size=\"10.00\">MulBackward0</text>\n</g>\n<!-- 139322177217648&#45;&gt;139322177217456 -->\n<g id=\"edge6\" class=\"edge\">\n<title>139322177217648&#45;&gt;139322177217456</title>\n<path fill=\"none\" stroke=\"black\" d=\"M106.42,-230.75C114.28,-223.03 125.93,-211.6 135.42,-202.28\"/>\n<polygon fill=\"black\" stroke=\"black\" points=\"138.06,-204.59 142.75,-195.09 133.16,-199.6 138.06,-204.59\"/>\n</g>\n<!-- 139322213130512 -->\n<g id=\"node6\" class=\"node\">\n<title>139322213130512</title>\n<polygon fill=\"lightblue\" stroke=\"black\" points=\"124.5,-316 70.5,-316 70.5,-286 124.5,-286 124.5,-316\"/>\n<text text-anchor=\"middle\" x=\"97.5\" y=\"-304\" font-family=\"monospace\" font-size=\"10.00\">x</text>\n<text text-anchor=\"middle\" x=\"97.5\" y=\"-293\" font-family=\"monospace\" font-size=\"10.00\"> ()</text>\n</g>\n<!-- 139322213130512&#45;&gt;139322177217648 -->\n<g id=\"edge4\" class=\"edge\">\n<title>139322213130512&#45;&gt;139322177217648</title>\n<path fill=\"none\" stroke=\"black\" d=\"M97.5,-285.84C97.5,-278.21 97.5,-268.7 97.5,-260.45\"/>\n<polygon fill=\"black\" stroke=\"black\" points=\"101,-260.27 97.5,-250.27 94,-260.27 101,-260.27\"/>\n</g>\n<!-- 139322177217456&#45;&gt;139322177217408 -->\n<g id=\"edge5\" class=\"edge\">\n<title>139322177217456&#45;&gt;139322177217408</title>\n<path fill=\"none\" stroke=\"black\" d=\"M142.58,-175.75C134.72,-168.03 123.07,-156.6 113.58,-147.28\"/>\n<polygon fill=\"black\" stroke=\"black\" points=\"115.84,-144.6 106.25,-140.09 110.94,-149.59 115.84,-144.6\"/>\n</g>\n</g>\n</svg>\n",
            "text/plain": [
              "<graphviz.graphs.Digraph at 0x7eb678e1e230>"
            ]
          },
          "metadata": {},
          "execution_count": 37
        }
      ]
    },
    {
      "cell_type": "markdown",
      "source": [
        "# Спуск з моментом(додатково)"
      ],
      "metadata": {
        "id": "IcA86cmnCtJO"
      }
    },
    {
      "cell_type": "code",
      "source": [
        "def f(x):\n",
        "  return x**2/3 + torch.sin(torch.pi*x)"
      ],
      "metadata": {
        "id": "CI5N_JENDfsS"
      },
      "execution_count": 38,
      "outputs": []
    },
    {
      "cell_type": "code",
      "source": [
        "# підкоючаємо процесор\n",
        "device = \"cuda\" if torch.cuda.is_available() else \"cpu\"\n",
        "torch.set_default_device(device)\n",
        "\n",
        "# вибираємо початкове значення\n",
        "x = torch.tensor(2.0, requires_grad=True)\n",
        "\n",
        "# швидкість навчання\n",
        "learning_rate = 1e-1\n",
        "\n",
        "# ініціалізація моменту\n",
        "moment = torch.tensor(0.0)\n",
        "beta = 0.99\n",
        "\n",
        "for t in range(2000):\n",
        "    # обчислюємо функцію яку потрібно мінімізувати\n",
        "    loss = f(x)\n",
        "\n",
        "    # обчислюємо всі потрібні градієнти\n",
        "    loss.backward()\n",
        "\n",
        "    # вивід значення функції\n",
        "    if t % 100 == 0:\n",
        "      print(f'{loss.item()=}')\n",
        "\n",
        "    # градієнтний спуск\n",
        "    with torch.no_grad():\n",
        "      moment = beta*moment + learning_rate*x.grad\n",
        "      x -= moment\n",
        "\n",
        "      # очищуємо пам'ять для повторного обчислення градієнтів\n",
        "      x.grad = None"
      ],
      "metadata": {
        "id": "lPxkOjQmwG6w",
        "outputId": "245a8b31-eeae-4b40-9bd6-3300bce3a5a8",
        "colab": {
          "base_uri": "https://localhost:8080/"
        }
      },
      "execution_count": 39,
      "outputs": [
        {
          "output_type": "stream",
          "name": "stdout",
          "text": [
            "loss.item()=1.3333334922790527\n",
            "loss.item()=-0.001579398405738175\n",
            "loss.item()=-0.48131000995635986\n",
            "loss.item()=-0.7642889022827148\n",
            "loss.item()=-0.8615269064903259\n",
            "loss.item()=-0.900367259979248\n",
            "loss.item()=-0.9199106693267822\n",
            "loss.item()=-0.92143714427948\n",
            "loss.item()=-0.9208425879478455\n",
            "loss.item()=-0.9217429161071777\n",
            "loss.item()=-0.9219358563423157\n",
            "loss.item()=-0.9218942523002625\n",
            "loss.item()=-0.9219304919242859\n",
            "loss.item()=-0.9219434857368469\n",
            "loss.item()=-0.9219414591789246\n",
            "loss.item()=-0.9219427704811096\n",
            "loss.item()=-0.9219434857368469\n",
            "loss.item()=-0.9219434857368469\n",
            "loss.item()=-0.9219434857368469\n",
            "loss.item()=-0.9219434857368469\n"
          ]
        }
      ]
    },
    {
      "cell_type": "code",
      "source": [
        "import matplotlib.pyplot as plt\n",
        "\n",
        "xs = torch.linspace(-3, 5, 100)\n",
        "plt.plot(xs.cpu(), f(xs).cpu(), label='f(x)')\n",
        "plt.scatter(x.item(), f(x).item(), c='red', label='min')\n",
        "plt.legend()"
      ],
      "metadata": {
        "id": "pzhPD6bFDZSp",
        "outputId": "225d480e-20e2-40c8-d7b9-fd8cb34f0719",
        "colab": {
          "base_uri": "https://localhost:8080/",
          "height": 448
        }
      },
      "execution_count": 40,
      "outputs": [
        {
          "output_type": "execute_result",
          "data": {
            "text/plain": [
              "<matplotlib.legend.Legend at 0x7eb678e62290>"
            ]
          },
          "metadata": {},
          "execution_count": 40
        },
        {
          "output_type": "display_data",
          "data": {
            "text/plain": [
              "<Figure size 640x480 with 1 Axes>"
            ],
            "image/png": "[encoded data removed]"
          },
          "metadata": {}
        }
      ]
    },
    {
      "cell_type": "code",
      "source": [],
      "metadata": {
        "id": "bPHqyfJWD2cb"
      },
      "execution_count": 40,
      "outputs": []
    }
  ]
}